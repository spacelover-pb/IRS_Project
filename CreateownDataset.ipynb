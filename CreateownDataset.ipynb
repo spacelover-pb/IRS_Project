{
 "cells": [
  {
   "cell_type": "code",
   "execution_count": 1,
   "metadata": {},
   "outputs": [
    {
     "name": "stdout",
     "output_type": "stream",
     "text": [
      "Dataset saved to 'dataset.csv'\n"
     ]
    }
   ],
   "source": [
    "import numpy as np\n",
    "import pandas as pd\n",
    "\n",
    "# Simulation parameters\n",
    "Pt = 1\n",
    "sigma2dBm = -80\n",
    "sigma2 = 10**(sigma2dBm/10)\n",
    "GammadB = 9\n",
    "Gamma = 10**(GammadB/10)\n",
    "fc = 3\n",
    "dv = 2\n",
    "d_SR1 = 30\n",
    "d_SR2 = 60\n",
    "AP_Xcoordinate = 0\n",
    "AP_Ycoordinate = 0\n",
    "AP_Zcoordinate = 0\n",
    "distances = np.linspace(0, 65, 100)\n",
    "N = 1\n",
    "beta = 1\n",
    "M = 12\n",
    "psi = np.linspace(1, 2*np.pi, M)\n",
    "phi = beta * np.exp(1j*psi)\n",
    "Phi = np.diag(phi)\n",
    "pathloss_3GPP_NLOS = lambda x, y: 10**((30 - 10*y*np.log10(x))/10)\n",
    "\n",
    "# Function to calculate achievable rate and distances\n",
    "def calculate_parameters(d_SR):\n",
    "    d_RD_list = []\n",
    "    d_SD_list = []\n",
    "    C_phi_list = []\n",
    "\n",
    "    for _ in range(10000):  # Generate 10,000 samples\n",
    "        # Randomly select a distance from the predefined range\n",
    "        d1 = np.random.choice(distances)\n",
    "\n",
    "        # Calculate d_SD and d_RD\n",
    "        d_SD = np.sqrt(d1**2 + dv**2)\n",
    "        d_RD = np.sqrt((d1 - d_SR)**2 + dv**2)\n",
    "\n",
    "        # Compute the channel gains using the 3GPP models\n",
    "        betaSR = pathloss_3GPP_NLOS(d_SR, 2.2)\n",
    "        betaRD = pathloss_3GPP_NLOS(d_RD, 2.4)\n",
    "        betaSD = pathloss_3GPP_NLOS(d_SD, 3.5)\n",
    "\n",
    "        # Small-scale fading channel\n",
    "        gSDLOS = np.sqrt(0.5) * (np.random.randn(N, 1) + 1j*np.random.randn(N, 1))\n",
    "        gSRLOS = np.sqrt(0.5) * (np.random.randn(N, M) + 1j*np.random.randn(N, M))\n",
    "        gRDLOS = np.sqrt(0.5) * (np.random.randn(1, M) + 1j*np.random.randn(1, M))\n",
    "\n",
    "        # Channel response in time domain\n",
    "        gSR = np.sqrt(betaSR) * gSRLOS\n",
    "        gRD = np.sqrt(betaRD) * gRDLOS\n",
    "        gSD = np.sqrt(betaSD) * gSDLOS\n",
    "\n",
    "        # Calculate W_n(phi)\n",
    "        W = np.power(np.abs(gSR @ Phi @ gRD.T + gSD), 2)\n",
    "\n",
    "        # Calculate achievable rate\n",
    "        rate = np.log2(1 + (Pt * W / (Gamma * sigma2)))\n",
    "        C_phi = rate[0, 0]\n",
    "\n",
    "        # Append values to lists\n",
    "        d_RD_list.append(d_RD)\n",
    "        d_SD_list.append(d_SD)\n",
    "        C_phi_list.append(C_phi)\n",
    "\n",
    "    return d_RD_list, d_SD_list, C_phi_list\n",
    "\n",
    "# Generate dataset for d_SR1\n",
    "d_RD1, d_SD1, C_phi1 = calculate_parameters(d_SR1)\n",
    "\n",
    "# Create a DataFrame\n",
    "data = {\n",
    "    'd_RD': d_RD1,\n",
    "    'd_SD': d_SD1,\n",
    "    'C_phi': C_phi1\n",
    "}\n",
    "df = pd.DataFrame(data)\n",
    "\n",
    "# Save the dataset to a CSV file\n",
    "df.to_csv('dataset.csv', index=False)\n",
    "print(\"Dataset saved to 'dataset.csv'\")"
   ]
  },
  {
   "cell_type": "code",
   "execution_count": 2,
   "metadata": {},
   "outputs": [
    {
     "name": "stdout",
     "output_type": "stream",
     "text": [
      "        d_RD       d_SD      C_phi\n",
      "0  11.538294  41.411960  27.935335\n",
      "1  14.382164  15.883992  29.419463\n",
      "2   4.017981  33.544524  30.961689\n",
      "3  34.401620  64.374510  23.510805\n",
      "4  33.746187  63.718265  21.272536\n"
     ]
    }
   ],
   "source": [
    "import pandas as pd\n",
    "df = pd.read_csv('dataset.csv')\n",
    "print(df.head())"
   ]
  },
  {
   "cell_type": "code",
   "execution_count": null,
   "metadata": {},
   "outputs": [],
   "source": []
  }
 ],
 "metadata": {
  "kernelspec": {
   "display_name": "Python 3",
   "language": "python",
   "name": "python3"
  },
  "language_info": {
   "codemirror_mode": {
    "name": "ipython",
    "version": 3
   },
   "file_extension": ".py",
   "mimetype": "text/x-python",
   "name": "python",
   "nbconvert_exporter": "python",
   "pygments_lexer": "ipython3",
   "version": "3.6.6"
  }
 },
 "nbformat": 4,
 "nbformat_minor": 2
}
